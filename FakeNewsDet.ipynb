{
  "cells": [
    {
      "cell_type": "code",
      "execution_count": 1,
      "metadata": {
        "id": "7WljsH2wn2jy"
      },
      "outputs": [],
      "source": [
        "import pandas as pd"
      ]
    },
    {
      "cell_type": "code",
      "execution_count": 2,
      "metadata": {
        "colab": {
          "base_uri": "https://localhost:8080/",
          "height": 206
        },
        "id": "b791FKospvSg",
        "outputId": "788be2a5-18f2-4252-a74b-ef3e2da80ba3"
      },
      "outputs": [
        {
          "data": {
            "text/html": [
              "<div>\n",
              "<style scoped>\n",
              "    .dataframe tbody tr th:only-of-type {\n",
              "        vertical-align: middle;\n",
              "    }\n",
              "\n",
              "    .dataframe tbody tr th {\n",
              "        vertical-align: top;\n",
              "    }\n",
              "\n",
              "    .dataframe thead th {\n",
              "        text-align: right;\n",
              "    }\n",
              "</style>\n",
              "<table border=\"1\" class=\"dataframe\">\n",
              "  <thead>\n",
              "    <tr style=\"text-align: right;\">\n",
              "      <th></th>\n",
              "      <th>Unnamed: 0</th>\n",
              "      <th>title</th>\n",
              "      <th>text</th>\n",
              "      <th>label</th>\n",
              "    </tr>\n",
              "  </thead>\n",
              "  <tbody>\n",
              "    <tr>\n",
              "      <th>0</th>\n",
              "      <td>8476</td>\n",
              "      <td>You Can Smell Hillary’s Fear</td>\n",
              "      <td>Daniel Greenfield, a Shillman Journalism Fello...</td>\n",
              "      <td>FAKE</td>\n",
              "    </tr>\n",
              "    <tr>\n",
              "      <th>1</th>\n",
              "      <td>10294</td>\n",
              "      <td>Watch The Exact Moment Paul Ryan Committed Pol...</td>\n",
              "      <td>Google Pinterest Digg Linkedin Reddit Stumbleu...</td>\n",
              "      <td>FAKE</td>\n",
              "    </tr>\n",
              "    <tr>\n",
              "      <th>2</th>\n",
              "      <td>3608</td>\n",
              "      <td>Kerry to go to Paris in gesture of sympathy</td>\n",
              "      <td>U.S. Secretary of State John F. Kerry said Mon...</td>\n",
              "      <td>REAL</td>\n",
              "    </tr>\n",
              "    <tr>\n",
              "      <th>3</th>\n",
              "      <td>10142</td>\n",
              "      <td>Bernie supporters on Twitter erupt in anger ag...</td>\n",
              "      <td>— Kaydee King (@KaydeeKing) November 9, 2016 T...</td>\n",
              "      <td>FAKE</td>\n",
              "    </tr>\n",
              "    <tr>\n",
              "      <th>4</th>\n",
              "      <td>875</td>\n",
              "      <td>The Battle of New York: Why This Primary Matters</td>\n",
              "      <td>It's primary day in New York and front-runners...</td>\n",
              "      <td>REAL</td>\n",
              "    </tr>\n",
              "  </tbody>\n",
              "</table>\n",
              "</div>"
            ],
            "text/plain": [
              "   Unnamed: 0                                              title  \\\n",
              "0        8476                       You Can Smell Hillary’s Fear   \n",
              "1       10294  Watch The Exact Moment Paul Ryan Committed Pol...   \n",
              "2        3608        Kerry to go to Paris in gesture of sympathy   \n",
              "3       10142  Bernie supporters on Twitter erupt in anger ag...   \n",
              "4         875   The Battle of New York: Why This Primary Matters   \n",
              "\n",
              "                                                text label  \n",
              "0  Daniel Greenfield, a Shillman Journalism Fello...  FAKE  \n",
              "1  Google Pinterest Digg Linkedin Reddit Stumbleu...  FAKE  \n",
              "2  U.S. Secretary of State John F. Kerry said Mon...  REAL  \n",
              "3  — Kaydee King (@KaydeeKing) November 9, 2016 T...  FAKE  \n",
              "4  It's primary day in New York and front-runners...  REAL  "
            ]
          },
          "execution_count": 2,
          "metadata": {},
          "output_type": "execute_result"
        }
      ],
      "source": [
        "dataframe = pd.read_csv('news.csv')\n",
        "dataframe.head()"
      ]
    },
    {
      "cell_type": "code",
      "execution_count": 3,
      "metadata": {
        "id": "W1EF1tOqp4n2"
      },
      "outputs": [],
      "source": [
        "x = dataframe['text']\n",
        "y = dataframe['label']"
      ]
    },
    {
      "cell_type": "code",
      "execution_count": 4,
      "metadata": {
        "colab": {
          "base_uri": "https://localhost:8080/"
        },
        "id": "OPfV1X8pqNDe",
        "outputId": "a85859ea-81da-4fac-8663-e54f0e2933c0"
      },
      "outputs": [
        {
          "data": {
            "text/plain": [
              "0       Daniel Greenfield, a Shillman Journalism Fello...\n",
              "1       Google Pinterest Digg Linkedin Reddit Stumbleu...\n",
              "2       U.S. Secretary of State John F. Kerry said Mon...\n",
              "3       — Kaydee King (@KaydeeKing) November 9, 2016 T...\n",
              "4       It's primary day in New York and front-runners...\n",
              "                              ...                        \n",
              "6330    The State Department told the Republican Natio...\n",
              "6331    The ‘P’ in PBS Should Stand for ‘Plutocratic’ ...\n",
              "6332     Anti-Trump Protesters Are Tools of the Oligar...\n",
              "6333    ADDIS ABABA, Ethiopia —President Obama convene...\n",
              "6334    Jeb Bush Is Suddenly Attacking Trump. Here's W...\n",
              "Name: text, Length: 6335, dtype: object"
            ]
          },
          "execution_count": 4,
          "metadata": {},
          "output_type": "execute_result"
        }
      ],
      "source": [
        "x"
      ]
    },
    {
      "cell_type": "code",
      "execution_count": 5,
      "metadata": {
        "colab": {
          "base_uri": "https://localhost:8080/"
        },
        "id": "5Lwow5ipqPKP",
        "outputId": "00d678e6-e854-4491-ec52-aa0497422266"
      },
      "outputs": [
        {
          "data": {
            "text/plain": [
              "0       FAKE\n",
              "1       FAKE\n",
              "2       REAL\n",
              "3       FAKE\n",
              "4       REAL\n",
              "        ... \n",
              "6330    REAL\n",
              "6331    FAKE\n",
              "6332    FAKE\n",
              "6333    REAL\n",
              "6334    REAL\n",
              "Name: label, Length: 6335, dtype: object"
            ]
          },
          "execution_count": 5,
          "metadata": {},
          "output_type": "execute_result"
        }
      ],
      "source": [
        "y"
      ]
    },
    {
      "cell_type": "code",
      "execution_count": 6,
      "metadata": {
        "id": "dqoMA9gtqQuD"
      },
      "outputs": [],
      "source": [
        "from sklearn.model_selection import train_test_split\n",
        "from sklearn.feature_extraction.text import TfidfVectorizer\n",
        "from sklearn.linear_model import PassiveAggressiveClassifier\n",
        "from sklearn.metrics import accuracy_score, confusion_matrix"
      ]
    },
    {
      "cell_type": "code",
      "execution_count": 7,
      "metadata": {
        "colab": {
          "base_uri": "https://localhost:8080/"
        },
        "id": "d_orIQ7Wq-Ti",
        "outputId": "2f38b1e9-a15a-4ef7-f8c3-04f0a3f7b8b1"
      },
      "outputs": [
        {
          "data": {
            "text/plain": [
              "2402    Christian Whiton is a former deputy special en...\n",
              "1922    Super Tuesday Brings Harsh Light And Heartache...\n",
              "3475    Prev post Page 1 of 4 Next \\nNurses are among ...\n",
              "6197    The deadly hostage situation at a luxury hotel...\n",
              "4748    Our new country: Women and minorities hit hard...\n",
              "                              ...                        \n",
              "4931    Twenty-two of the 37 corporations nominated fo...\n",
              "3264    As pieces of luggage, human remains, wreckage ...\n",
              "1653    0 Add Comment \\nIN THE immediate aftermath of ...\n",
              "2607    Palestine Palestinians check the flat of Amjad...\n",
              "2732    For the second week in a row, there was a temp...\n",
              "Name: text, Length: 5068, dtype: object"
            ]
          },
          "execution_count": 7,
          "metadata": {},
          "output_type": "execute_result"
        }
      ],
      "source": [
        "x_train, x_test, y_train, y_test = train_test_split(x, y, test_size = 0.2, random_state = 0)\n",
        "x_train"
      ]
    },
    {
      "cell_type": "code",
      "execution_count": 8,
      "metadata": {
        "colab": {
          "base_uri": "https://localhost:8080/"
        },
        "id": "rj7qIF_ytmoR",
        "outputId": "2ff1df6b-de06-4cd8-9ed4-b4a335fc49b0"
      },
      "outputs": [
        {
          "data": {
            "text/plain": [
              "2402    REAL\n",
              "1922    REAL\n",
              "3475    FAKE\n",
              "6197    REAL\n",
              "4748    FAKE\n",
              "        ... \n",
              "4931    REAL\n",
              "3264    REAL\n",
              "1653    FAKE\n",
              "2607    FAKE\n",
              "2732    REAL\n",
              "Name: label, Length: 5068, dtype: object"
            ]
          },
          "execution_count": 8,
          "metadata": {},
          "output_type": "execute_result"
        }
      ],
      "source": [
        "y_train"
      ]
    },
    {
      "cell_type": "code",
      "execution_count": 9,
      "metadata": {
        "id": "Pgzw9l82tsju"
      },
      "outputs": [],
      "source": [
        "tfvect = TfidfVectorizer(stop_words = 'english', max_df = 0.7)\n",
        "tfid_x_train = tfvect.fit_transform(x_train)\n",
        "tfid_x_test = tfvect.transform(x_test)"
      ]
    },
    {
      "cell_type": "code",
      "execution_count": 10,
      "metadata": {
        "colab": {
          "base_uri": "https://localhost:8080/"
        },
        "id": "ySylnue1xJQ9",
        "outputId": "17be7020-27fe-46b6-c09c-c8527d7c0ff3"
      },
      "outputs": [
        {
          "name": "stdout",
          "output_type": "stream",
          "text": [
            "  (0, 5434)\t0.04558113027328849\n",
            "  (0, 22112)\t0.03101556231290688\n",
            "  (0, 41980)\t0.041224221139183156\n",
            "  (0, 41399)\t0.08707226417897605\n",
            "  (0, 32656)\t0.05826505252086948\n",
            "  (0, 40634)\t0.08300352400740964\n",
            "  (0, 59168)\t0.03304164565844389\n",
            "  (0, 17072)\t0.015280054882096362\n",
            "  (0, 21122)\t0.03467645674134631\n",
            "  (0, 36500)\t0.036461647252457555\n",
            "  (0, 21811)\t0.021815222286389203\n",
            "  (0, 55510)\t0.037920004934453785\n",
            "  (0, 35473)\t0.025244871570555313\n",
            "  (0, 8579)\t0.03467645674134631\n",
            "  (0, 34917)\t0.05447353166186797\n",
            "  (0, 51186)\t0.027977956004355133\n",
            "  (0, 17007)\t0.020253495378206955\n",
            "  (0, 13362)\t0.023133406428959745\n",
            "  (0, 28054)\t0.026346675461032608\n",
            "  (0, 51479)\t0.04368398576036871\n",
            "  (0, 19911)\t0.03226033674797147\n",
            "  (0, 12812)\t0.021077575874407357\n",
            "  (0, 5104)\t0.0369438299052932\n",
            "  (0, 22586)\t0.03830998824285092\n",
            "  (0, 23706)\t0.03360195028163217\n",
            "  :\t:\n",
            "  (5067, 25947)\t0.0690536695761875\n",
            "  (5067, 20495)\t0.060909276073445075\n",
            "  (5067, 46270)\t0.05755520504375683\n",
            "  (5067, 56317)\t0.0733883544907381\n",
            "  (5067, 59168)\t0.01910506999217599\n",
            "  (5067, 17007)\t0.02342162075017423\n",
            "  (5067, 59558)\t0.03904254730882264\n",
            "  (5067, 52021)\t0.027720561533370613\n",
            "  (5067, 23229)\t0.025035767020752043\n",
            "  (5067, 49613)\t0.048392586173076596\n",
            "  (5067, 7063)\t0.06602578548018748\n",
            "  (5067, 40822)\t0.013544398092458507\n",
            "  (5067, 10428)\t0.021596124032013567\n",
            "  (5067, 23845)\t0.022825957097266317\n",
            "  (5067, 60886)\t0.027688046181183583\n",
            "  (5067, 58904)\t0.13131106310992066\n",
            "  (5067, 32441)\t0.04328723686607527\n",
            "  (5067, 27076)\t0.03456394237568609\n",
            "  (5067, 18277)\t0.018454660544363035\n",
            "  (5067, 16011)\t0.08920302464153039\n",
            "  (5067, 17209)\t0.031075371449895063\n",
            "  (5067, 56179)\t0.03418052065813127\n",
            "  (5067, 17075)\t0.03736169812434056\n",
            "  (5067, 44178)\t0.16113919801316542\n",
            "  (5067, 11545)\t0.025714422946060106\n"
          ]
        }
      ],
      "source": [
        "print(tfid_x_train)"
      ]
    },
    {
      "cell_type": "code",
      "execution_count": 11,
      "metadata": {
        "colab": {
          "base_uri": "https://localhost:8080/"
        },
        "id": "ZmDie2ufxqXt",
        "outputId": "0e4d7653-d547-4f8c-db20-3656baca7fb5"
      },
      "outputs": [
        {
          "data": {
            "text/html": [
              "<style>#sk-container-id-1 {color: black;background-color: white;}#sk-container-id-1 pre{padding: 0;}#sk-container-id-1 div.sk-toggleable {background-color: white;}#sk-container-id-1 label.sk-toggleable__label {cursor: pointer;display: block;width: 100%;margin-bottom: 0;padding: 0.3em;box-sizing: border-box;text-align: center;}#sk-container-id-1 label.sk-toggleable__label-arrow:before {content: \"▸\";float: left;margin-right: 0.25em;color: #696969;}#sk-container-id-1 label.sk-toggleable__label-arrow:hover:before {color: black;}#sk-container-id-1 div.sk-estimator:hover label.sk-toggleable__label-arrow:before {color: black;}#sk-container-id-1 div.sk-toggleable__content {max-height: 0;max-width: 0;overflow: hidden;text-align: left;background-color: #f0f8ff;}#sk-container-id-1 div.sk-toggleable__content pre {margin: 0.2em;color: black;border-radius: 0.25em;background-color: #f0f8ff;}#sk-container-id-1 input.sk-toggleable__control:checked~div.sk-toggleable__content {max-height: 200px;max-width: 100%;overflow: auto;}#sk-container-id-1 input.sk-toggleable__control:checked~label.sk-toggleable__label-arrow:before {content: \"▾\";}#sk-container-id-1 div.sk-estimator input.sk-toggleable__control:checked~label.sk-toggleable__label {background-color: #d4ebff;}#sk-container-id-1 div.sk-label input.sk-toggleable__control:checked~label.sk-toggleable__label {background-color: #d4ebff;}#sk-container-id-1 input.sk-hidden--visually {border: 0;clip: rect(1px 1px 1px 1px);clip: rect(1px, 1px, 1px, 1px);height: 1px;margin: -1px;overflow: hidden;padding: 0;position: absolute;width: 1px;}#sk-container-id-1 div.sk-estimator {font-family: monospace;background-color: #f0f8ff;border: 1px dotted black;border-radius: 0.25em;box-sizing: border-box;margin-bottom: 0.5em;}#sk-container-id-1 div.sk-estimator:hover {background-color: #d4ebff;}#sk-container-id-1 div.sk-parallel-item::after {content: \"\";width: 100%;border-bottom: 1px solid gray;flex-grow: 1;}#sk-container-id-1 div.sk-label:hover label.sk-toggleable__label {background-color: #d4ebff;}#sk-container-id-1 div.sk-serial::before {content: \"\";position: absolute;border-left: 1px solid gray;box-sizing: border-box;top: 0;bottom: 0;left: 50%;z-index: 0;}#sk-container-id-1 div.sk-serial {display: flex;flex-direction: column;align-items: center;background-color: white;padding-right: 0.2em;padding-left: 0.2em;position: relative;}#sk-container-id-1 div.sk-item {position: relative;z-index: 1;}#sk-container-id-1 div.sk-parallel {display: flex;align-items: stretch;justify-content: center;background-color: white;position: relative;}#sk-container-id-1 div.sk-item::before, #sk-container-id-1 div.sk-parallel-item::before {content: \"\";position: absolute;border-left: 1px solid gray;box-sizing: border-box;top: 0;bottom: 0;left: 50%;z-index: -1;}#sk-container-id-1 div.sk-parallel-item {display: flex;flex-direction: column;z-index: 1;position: relative;background-color: white;}#sk-container-id-1 div.sk-parallel-item:first-child::after {align-self: flex-end;width: 50%;}#sk-container-id-1 div.sk-parallel-item:last-child::after {align-self: flex-start;width: 50%;}#sk-container-id-1 div.sk-parallel-item:only-child::after {width: 0;}#sk-container-id-1 div.sk-dashed-wrapped {border: 1px dashed gray;margin: 0 0.4em 0.5em 0.4em;box-sizing: border-box;padding-bottom: 0.4em;background-color: white;}#sk-container-id-1 div.sk-label label {font-family: monospace;font-weight: bold;display: inline-block;line-height: 1.2em;}#sk-container-id-1 div.sk-label-container {text-align: center;}#sk-container-id-1 div.sk-container {/* jupyter's `normalize.less` sets `[hidden] { display: none; }` but bootstrap.min.css set `[hidden] { display: none !important; }` so we also need the `!important` here to be able to override the default hidden behavior on the sphinx rendered scikit-learn.org. See: https://github.com/scikit-learn/scikit-learn/issues/21755 */display: inline-block !important;position: relative;}#sk-container-id-1 div.sk-text-repr-fallback {display: none;}</style><div id=\"sk-container-id-1\" class=\"sk-top-container\"><div class=\"sk-text-repr-fallback\"><pre>PassiveAggressiveClassifier(max_iter=50)</pre><b>In a Jupyter environment, please rerun this cell to show the HTML representation or trust the notebook. <br />On GitHub, the HTML representation is unable to render, please try loading this page with nbviewer.org.</b></div><div class=\"sk-container\" hidden><div class=\"sk-item\"><div class=\"sk-estimator sk-toggleable\"><input class=\"sk-toggleable__control sk-hidden--visually\" id=\"sk-estimator-id-1\" type=\"checkbox\" checked><label for=\"sk-estimator-id-1\" class=\"sk-toggleable__label sk-toggleable__label-arrow\">PassiveAggressiveClassifier</label><div class=\"sk-toggleable__content\"><pre>PassiveAggressiveClassifier(max_iter=50)</pre></div></div></div></div></div>"
            ],
            "text/plain": [
              "PassiveAggressiveClassifier(max_iter=50)"
            ]
          },
          "execution_count": 11,
          "metadata": {},
          "output_type": "execute_result"
        }
      ],
      "source": [
        "classifier = PassiveAggressiveClassifier(max_iter = 50)\n",
        "classifier.fit(tfid_x_train, y_train)"
      ]
    },
    {
      "cell_type": "code",
      "execution_count": 12,
      "metadata": {
        "colab": {
          "base_uri": "https://localhost:8080/"
        },
        "id": "nHGUPi1Rx7aB",
        "outputId": "c7059063-983b-4c7a-ec9a-1ddf3ef87884"
      },
      "outputs": [
        {
          "name": "stdout",
          "output_type": "stream",
          "text": [
            "Accuracy: 93.61%\n"
          ]
        }
      ],
      "source": [
        "y_pred = classifier.predict(tfid_x_test)\n",
        "score = accuracy_score(y_test, y_pred)\n",
        "print(f'Accuracy: {round(score*100, 2)}%')"
      ]
    },
    {
      "cell_type": "code",
      "execution_count": 13,
      "metadata": {
        "colab": {
          "base_uri": "https://localhost:8080/"
        },
        "id": "fMocawoMyxsb",
        "outputId": "b49c274d-e30c-4f37-f41e-9867a5be6d63"
      },
      "outputs": [
        {
          "name": "stdout",
          "output_type": "stream",
          "text": [
            "[[573  42]\n",
            " [ 39 613]]\n"
          ]
        }
      ],
      "source": [
        "cf = confusion_matrix(y_test, y_pred, labels =  ['FAKE', 'REAL'])\n",
        "print(cf)"
      ]
    },
    {
      "cell_type": "code",
      "execution_count": 14,
      "metadata": {
        "id": "gKEQbVAbzNHA"
      },
      "outputs": [],
      "source": [
        "def fake_news_det(news):\n",
        "  input_data = [news]\n",
        "  vectorized_input_data = tfvect.transform(input_data)\n",
        "  prediction = classifier.predict(vectorized_input_data)\n",
        "  print(prediction)"
      ]
    },
    {
      "cell_type": "code",
      "execution_count": 15,
      "metadata": {
        "colab": {
          "base_uri": "https://localhost:8080/"
        },
        "id": "I4JVg6160DBC",
        "outputId": "949268c4-cd44-4aab-b219-7898159e8019"
      },
      "outputs": [
        {
          "name": "stdout",
          "output_type": "stream",
          "text": [
            "['FAKE']\n"
          ]
        }
      ],
      "source": [
        "fake_news_det(\"Mike Pence Drapes Shawl Over Immodest Lady Justice Statue - The Onion - America's Finest News Source\")"
      ]
    },
    {
      "cell_type": "code",
      "execution_count": 16,
      "metadata": {
        "colab": {
          "base_uri": "https://localhost:8080/"
        },
        "id": "uvmwUCm80jF0",
        "outputId": "dfd22b3e-64c8-4203-f3c6-9e5a67bdb50d"
      },
      "outputs": [
        {
          "name": "stdout",
          "output_type": "stream",
          "text": [
            "['REAL']\n"
          ]
        }
      ],
      "source": [
        "fake_news_det(\"What's in that Iran bill that Obama doesn't like?\")"
      ]
    },
    {
      "cell_type": "code",
      "execution_count": 17,
      "metadata": {
        "id": "d8mw83P60rYR"
      },
      "outputs": [],
      "source": [
        "import pickle\n",
        "pickle.dump(classifier, open('model.pkl', 'wb'))"
      ]
    },
    {
      "cell_type": "code",
      "execution_count": 18,
      "metadata": {
        "id": "WTBa7D5j1IMy"
      },
      "outputs": [],
      "source": [
        "loaded_model = pickle.load(open('model.pkl', 'rb'))"
      ]
    },
    {
      "cell_type": "code",
      "execution_count": 19,
      "metadata": {
        "id": "NZVy-4ns1RbQ"
      },
      "outputs": [],
      "source": [
        "def fake_news_det1(news):\n",
        "  input_data = [news]\n",
        "  vectorized_input_data = tfvect.transform(input_data)\n",
        "  prediction = loaded_model.predict(vectorized_input_data)\n",
        "  print(prediction)"
      ]
    },
    {
      "cell_type": "code",
      "execution_count": 20,
      "metadata": {
        "colab": {
          "base_uri": "https://localhost:8080/"
        },
        "id": "D54qyr8H1sh_",
        "outputId": "280efaf5-8d69-4f00-c761-0dfe39070468"
      },
      "outputs": [
        {
          "name": "stdout",
          "output_type": "stream",
          "text": [
            "['REAL']\n"
          ]
        }
      ],
      "source": [
        "fake_news_det1(\"What's in that Iran bill that Obama doesn't like?\")"
      ]
    },
    {
      "cell_type": "code",
      "execution_count": 21,
      "metadata": {},
      "outputs": [],
      "source": [
        "filename = 'vectorizer.pkl'\n",
        "pickle.dump(tfvect, open(filename, 'wb'))"
      ]
    },
    {
      "cell_type": "code",
      "execution_count": null,
      "metadata": {},
      "outputs": [],
      "source": []
    }
  ],
  "metadata": {
    "colab": {
      "collapsed_sections": [],
      "name": "FakeNewsDetection.ipynb",
      "provenance": []
    },
    "interpreter": {
      "hash": "3d88cb263de8a7410747c9b3cee40a5d76d3908f767a9cbce86deba40c89d957"
    },
    "kernelspec": {
      "display_name": "Python 3.10.4 ('newsapp': venv)",
      "language": "python",
      "name": "python3"
    },
    "language_info": {
      "codemirror_mode": {
        "name": "ipython",
        "version": 3
      },
      "file_extension": ".py",
      "mimetype": "text/x-python",
      "name": "python",
      "nbconvert_exporter": "python",
      "pygments_lexer": "ipython3",
      "version": "3.10.4"
    }
  },
  "nbformat": 4,
  "nbformat_minor": 0
}
